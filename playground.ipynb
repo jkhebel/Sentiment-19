{
  "nbformat": 4,
  "nbformat_minor": 0,
  "metadata": {
    "colab": {
      "name": "playground.ipynb",
      "provenance": [],
      "collapsed_sections": [],
      "include_colab_link": true
    },
    "kernelspec": {
      "name": "python3",
      "display_name": "Python 3"
    }
  },
  "cells": [
    {
      "cell_type": "markdown",
      "metadata": {
        "id": "view-in-github",
        "colab_type": "text"
      },
      "source": [
        "<a href=\"https://colab.research.google.com/github/jkhebel/Sentiment-19/blob/master/playground.ipynb\" target=\"_parent\"><img src=\"https://colab.research.google.com/assets/colab-badge.svg\" alt=\"Open In Colab\"/></a>"
      ]
    },
    {
      "cell_type": "code",
      "metadata": {
        "id": "8uGlLBBM72Xy",
        "colab_type": "code",
        "colab": {}
      },
      "source": [
        "import numpy as np"
      ],
      "execution_count": 0,
      "outputs": []
    },
    {
      "cell_type": "code",
      "metadata": {
        "id": "ewj8nTEr8Adm",
        "colab_type": "code",
        "outputId": "3a10653c-f5bd-4c7e-b559-871f05f6b1a9",
        "colab": {
          "base_uri": "https://localhost:8080/",
          "height": 34
        }
      },
      "source": [
        "#Joe is here\n",
        "print('Hello from Joe')"
      ],
      "execution_count": 0,
      "outputs": [
        {
          "output_type": "stream",
          "text": [
            "Hello from Joe\n"
          ],
          "name": "stdout"
        }
      ]
    },
    {
      "cell_type": "code",
      "metadata": {
        "id": "Y4YKFPmY9MLX",
        "colab_type": "code",
        "outputId": "ec2b161e-1b6c-4ba7-edf5-3b9dfa9cc357",
        "colab": {
          "base_uri": "https://localhost:8080/",
          "height": 34
        }
      },
      "source": [
        "#Krishna here\n",
        "print('Hello')"
      ],
      "execution_count": 0,
      "outputs": [
        {
          "output_type": "stream",
          "text": [
            "Hello\n"
          ],
          "name": "stdout"
        }
      ]
    },
    {
      "cell_type": "markdown",
      "metadata": {
        "id": "KEDFCh-eA3xO",
        "colab_type": "text"
      },
      "source": [
        "# Using Twitter API"
      ]
    },
    {
      "cell_type": "code",
      "metadata": {
        "id": "tyMYkV_zCufa",
        "colab_type": "code",
        "outputId": "53a32607-9bc1-4a4f-dca6-d24e18657e3d",
        "colab": {
          "base_uri": "https://localhost:8080/",
          "height": 258
        }
      },
      "source": [
        "!pip install python-twitter"
      ],
      "execution_count": 0,
      "outputs": [
        {
          "output_type": "stream",
          "text": [
            "Collecting python-twitter\n",
            "\u001b[?25l  Downloading https://files.pythonhosted.org/packages/b3/a9/2eb36853d8ca49a70482e2332aa5082e09b3180391671101b1612e3aeaf1/python_twitter-3.5-py2.py3-none-any.whl (67kB)\n",
            "\r\u001b[K     |████▉                           | 10kB 20.0MB/s eta 0:00:01\r\u001b[K     |█████████▊                      | 20kB 3.1MB/s eta 0:00:01\r\u001b[K     |██████████████▋                 | 30kB 3.5MB/s eta 0:00:01\r\u001b[K     |███████████████████▌            | 40kB 3.0MB/s eta 0:00:01\r\u001b[K     |████████████████████████▎       | 51kB 3.2MB/s eta 0:00:01\r\u001b[K     |█████████████████████████████▏  | 61kB 3.8MB/s eta 0:00:01\r\u001b[K     |████████████████████████████████| 71kB 3.2MB/s \n",
            "\u001b[?25hRequirement already satisfied: future in /usr/local/lib/python3.6/dist-packages (from python-twitter) (0.16.0)\n",
            "Requirement already satisfied: requests in /usr/local/lib/python3.6/dist-packages (from python-twitter) (2.21.0)\n",
            "Requirement already satisfied: requests-oauthlib in /usr/local/lib/python3.6/dist-packages (from python-twitter) (1.3.0)\n",
            "Requirement already satisfied: urllib3<1.25,>=1.21.1 in /usr/local/lib/python3.6/dist-packages (from requests->python-twitter) (1.24.3)\n",
            "Requirement already satisfied: chardet<3.1.0,>=3.0.2 in /usr/local/lib/python3.6/dist-packages (from requests->python-twitter) (3.0.4)\n",
            "Requirement already satisfied: certifi>=2017.4.17 in /usr/local/lib/python3.6/dist-packages (from requests->python-twitter) (2020.4.5.1)\n",
            "Requirement already satisfied: idna<2.9,>=2.5 in /usr/local/lib/python3.6/dist-packages (from requests->python-twitter) (2.8)\n",
            "Requirement already satisfied: oauthlib>=3.0.0 in /usr/local/lib/python3.6/dist-packages (from requests-oauthlib->python-twitter) (3.1.0)\n",
            "Installing collected packages: python-twitter\n",
            "Successfully installed python-twitter-3.5\n"
          ],
          "name": "stdout"
        }
      ]
    },
    {
      "cell_type": "code",
      "metadata": {
        "id": "7JKpZojzCvkt",
        "colab_type": "code",
        "outputId": "ddf7eb9b-e721-41e1-c358-dc42c4e6b9cb",
        "colab": {
          "base_uri": "https://localhost:8080/",
          "height": 54
        }
      },
      "source": [
        "# Joe's twitter API tokens\n",
        "import twitter\n",
        "api = twitter.Api(consumer_key='pEdQhiy71MAzTbK5FMeVNw',\n",
        "                      consumer_secret='V8eFR1qtgpZmFWFSQ8iWJKRBF1Pjb4ntyGNt5doGY',\n",
        "                      access_token_key='18159488-3O5Ltr0nGsPwaCPoNouRTXbPXKdZqWmaElhXtACwj',\n",
        "                      access_token_secret='Sluadl10lNDCVmyLjYS06FcRdj8VjFmmZ7CTXC0G6XlQf')\n",
        "print(api.VerifyCredentials())"
      ],
      "execution_count": 0,
      "outputs": [
        {
          "output_type": "stream",
          "text": [
            "{\"created_at\": \"Tue Dec 16 09:33:12 +0000 2008\", \"favourites_count\": 5, \"followers_count\": 13, \"friends_count\": 11, \"id\": 18159488, \"id_str\": \"18159488\", \"location\": \"San Francisco, CA\", \"name\": \"Joe\", \"profile_background_color\": \"1A1B1F\", \"profile_background_image_url\": \"http://abs.twimg.com/images/themes/theme9/bg.gif\", \"profile_background_image_url_https\": \"https://abs.twimg.com/images/themes/theme9/bg.gif\", \"profile_image_url\": \"http://pbs.twimg.com/profile_images/1248370338989109255/oZdV9TiD_normal.jpg\", \"profile_image_url_https\": \"https://pbs.twimg.com/profile_images/1248370338989109255/oZdV9TiD_normal.jpg\", \"profile_link_color\": \"2FC2EF\", \"profile_sidebar_border_color\": \"181A1E\", \"profile_sidebar_fill_color\": \"252429\", \"profile_text_color\": \"666666\", \"profile_use_background_image\": true, \"screen_name\": \"jdurago\", \"status\": {\"created_at\": \"Fri Jun 17 21:31:43 +0000 2011\", \"id\": 81836444888477696, \"id_str\": \"81836444888477696\", \"lang\": \"en\", \"source\": \"<a href=\\\"https://dev.twitter.com/docs/tfw\\\" rel=\\\"nofollow\\\">Twitter for Websites</a>\", \"text\": \"TechCrunch Giveaway: Ticket To Disrupt SF, Plus Universal iPhone Remote\\u00a0#TCDisrupt http://t.co/SkNKxJ4 via @techcrunch\"}, \"statuses_count\": 82}\n"
          ],
          "name": "stdout"
        }
      ]
    },
    {
      "cell_type": "code",
      "metadata": {
        "id": "NZZf7JVEC6pv",
        "colab_type": "code",
        "outputId": "c39d2d1b-56d0-4d1e-849a-918e674b9614",
        "colab": {
          "base_uri": "https://localhost:8080/",
          "height": 34
        }
      },
      "source": [
        "#Look up Covid19 Hashtag\n",
        "\n",
        "results = api.GetSearch(raw_query=\"q=%23covid19&result_type=recent&since=2014-07-19&count=100\")\n",
        "len(results)"
      ],
      "execution_count": 0,
      "outputs": [
        {
          "output_type": "execute_result",
          "data": {
            "text/plain": [
              "100"
            ]
          },
          "metadata": {
            "tags": []
          },
          "execution_count": 8
        }
      ]
    },
    {
      "cell_type": "code",
      "metadata": {
        "id": "lCx9RbLyC-xC",
        "colab_type": "code",
        "colab": {}
      },
      "source": [
        "results"
      ],
      "execution_count": 0,
      "outputs": []
    },
    {
      "cell_type": "markdown",
      "metadata": {
        "id": "n3_mLL6aA_bH",
        "colab_type": "text"
      },
      "source": [
        "# Installing PySpark in Colab"
      ]
    },
    {
      "cell_type": "code",
      "metadata": {
        "id": "_xR5nIt2BDOw",
        "colab_type": "code",
        "colab": {}
      },
      "source": [
        "!apt-get install openjdk-8-jdk-headless -qq > /dev/null\n",
        "!wget -q http://apache.mirrors.hoobly.com/spark/spark-3.0.0-preview2/spark-3.0.0-preview2-bin-hadoop2.7.tgz\n",
        "!tar -xf spark-3.0.0-preview2-bin-hadoop2.7.tgz"
      ],
      "execution_count": 0,
      "outputs": []
    },
    {
      "cell_type": "code",
      "metadata": {
        "id": "SkDVURa1BJmK",
        "colab_type": "code",
        "colab": {}
      },
      "source": [
        "import os\n",
        "os.environ[\"JAVA_HOME\"] = \"/usr/lib/jvm/java-8-openjdk-amd64\"\n",
        "os.environ[\"SPARK_HOME\"] = \"/content/spark-3.0.0-preview2-bin-hadoop2.7\""
      ],
      "execution_count": 0,
      "outputs": []
    },
    {
      "cell_type": "code",
      "metadata": {
        "id": "o6tw12d7BKND",
        "colab_type": "code",
        "outputId": "251d9070-0fcb-4d78-b6a0-4d8ff84547ea",
        "colab": {
          "base_uri": "https://localhost:8080/",
          "height": 68
        }
      },
      "source": [
        "!pip install -q findspark pyspark"
      ],
      "execution_count": 0,
      "outputs": [
        {
          "output_type": "stream",
          "text": [
            "\u001b[K     |████████████████████████████████| 217.8MB 66kB/s \n",
            "\u001b[K     |████████████████████████████████| 204kB 46.4MB/s \n",
            "\u001b[?25h  Building wheel for pyspark (setup.py) ... \u001b[?25l\u001b[?25hdone\n"
          ],
          "name": "stdout"
        }
      ]
    },
    {
      "cell_type": "code",
      "metadata": {
        "id": "UXOOsSGiBL8h",
        "colab_type": "code",
        "colab": {}
      },
      "source": [
        "import findspark\n",
        "findspark.init()\n",
        "from pyspark.sql import SparkSession\n",
        "spark = SparkSession.builder.master(\"local[*]\").getOrCreate()"
      ],
      "execution_count": 0,
      "outputs": []
    },
    {
      "cell_type": "code",
      "metadata": {
        "id": "DUUZ5802BNfP",
        "colab_type": "code",
        "outputId": "8b915c78-3a5f-44d7-da38-68eb10652899",
        "colab": {
          "base_uri": "https://localhost:8080/",
          "height": 646
        }
      },
      "source": [
        "# download a dataset and\n",
        "!wget https://web.stanford.edu/class/archive/cs/cs109/cs109.1166/stuff/titanic.csv\n",
        "\n",
        "from pyspark.ml.feature import VectorAssembler\n",
        "from pyspark.ml.regression import LinearRegression\n",
        "\n",
        "dataset = spark.read.csv('titanic.csv',inferSchema=True, header =True)\n",
        "dataset.show()"
      ],
      "execution_count": 0,
      "outputs": [
        {
          "output_type": "stream",
          "text": [
            "--2020-04-21 23:17:07--  https://web.stanford.edu/class/archive/cs/cs109/cs109.1166/stuff/titanic.csv\n",
            "Resolving web.stanford.edu (web.stanford.edu)... 171.67.215.200\n",
            "Connecting to web.stanford.edu (web.stanford.edu)|171.67.215.200|:443... connected.\n",
            "HTTP request sent, awaiting response... 200 OK\n",
            "Length: 44225 (43K) [text/csv]\n",
            "Saving to: ‘titanic.csv.1’\n",
            "\n",
            "\rtitanic.csv.1         0%[                    ]       0  --.-KB/s               \rtitanic.csv.1       100%[===================>]  43.19K  --.-KB/s    in 0.02s   \n",
            "\n",
            "2020-04-21 23:17:07 (1.97 MB/s) - ‘titanic.csv.1’ saved [44225/44225]\n",
            "\n",
            "+--------+------+--------------------+------+----+-----------------------+-----------------------+-------+\n",
            "|Survived|Pclass|                Name|   Sex| Age|Siblings/Spouses Aboard|Parents/Children Aboard|   Fare|\n",
            "+--------+------+--------------------+------+----+-----------------------+-----------------------+-------+\n",
            "|       0|     3|Mr. Owen Harris B...|  male|22.0|                      1|                      0|   7.25|\n",
            "|       1|     1|Mrs. John Bradley...|female|38.0|                      1|                      0|71.2833|\n",
            "|       1|     3|Miss. Laina Heikk...|female|26.0|                      0|                      0|  7.925|\n",
            "|       1|     1|Mrs. Jacques Heat...|female|35.0|                      1|                      0|   53.1|\n",
            "|       0|     3|Mr. William Henry...|  male|35.0|                      0|                      0|   8.05|\n",
            "|       0|     3|     Mr. James Moran|  male|27.0|                      0|                      0| 8.4583|\n",
            "|       0|     1|Mr. Timothy J McC...|  male|54.0|                      0|                      0|51.8625|\n",
            "|       0|     3|Master. Gosta Leo...|  male| 2.0|                      3|                      1| 21.075|\n",
            "|       1|     3|Mrs. Oscar W (Eli...|female|27.0|                      0|                      2|11.1333|\n",
            "|       1|     2|Mrs. Nicholas (Ad...|female|14.0|                      1|                      0|30.0708|\n",
            "|       1|     3|Miss. Marguerite ...|female| 4.0|                      1|                      1|   16.7|\n",
            "|       1|     1|Miss. Elizabeth B...|female|58.0|                      0|                      0|  26.55|\n",
            "|       0|     3|Mr. William Henry...|  male|20.0|                      0|                      0|   8.05|\n",
            "|       0|     3|Mr. Anders Johan ...|  male|39.0|                      1|                      5| 31.275|\n",
            "|       0|     3|Miss. Hulda Amand...|female|14.0|                      0|                      0| 7.8542|\n",
            "|       1|     2|Mrs. (Mary D King...|female|55.0|                      0|                      0|   16.0|\n",
            "|       0|     3| Master. Eugene Rice|  male| 2.0|                      4|                      1| 29.125|\n",
            "|       1|     2|Mr. Charles Eugen...|  male|23.0|                      0|                      0|   13.0|\n",
            "|       0|     3|Mrs. Julius (Emel...|female|31.0|                      1|                      0|   18.0|\n",
            "|       1|     3|Mrs. Fatima Masse...|female|22.0|                      0|                      0|  7.225|\n",
            "+--------+------+--------------------+------+----+-----------------------+-----------------------+-------+\n",
            "only showing top 20 rows\n",
            "\n"
          ],
          "name": "stdout"
        }
      ]
    },
    {
      "cell_type": "code",
      "metadata": {
        "id": "XiWZyAKeBUbU",
        "colab_type": "code",
        "colab": {}
      },
      "source": [
        ""
      ],
      "execution_count": 0,
      "outputs": []
    }
  ]
}